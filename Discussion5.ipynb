{
  "nbformat": 4,
  "nbformat_minor": 0,
  "metadata": {
    "colab": {
      "provenance": [],
      "include_colab_link": true
    },
    "kernelspec": {
      "name": "python3",
      "display_name": "Python 3"
    },
    "language_info": {
      "name": "python"
    }
  },
  "cells": [
    {
      "cell_type": "markdown",
      "metadata": {
        "id": "view-in-github",
        "colab_type": "text"
      },
      "source": [
        "<a href=\"https://colab.research.google.com/github/rellethy/CS361/blob/main/Discussion5.ipynb\" target=\"_parent\"><img src=\"https://colab.research.google.com/assets/colab-badge.svg\" alt=\"Open In Colab\"/></a>"
      ]
    },
    {
      "cell_type": "markdown",
      "source": [
        "## Questions To Answer\n",
        "\n",
        "**Can you explain how WLLN can be derived?**\n",
        "\n",
        "To derive the WLLN, we can first calculate the expected value and variance of the sample average. The expected value of the sample average is the same as the population's expected value, while the variance decreases as the sample size grows. This shrinking variance means that the sample average is less likely to deviate from the true average as more data is collected.\n",
        "\n",
        "Using Chebyshev’s inequality, we can bound the probability that the sample average deviates from the true average by more than a certain amount. We see that as the sample size increases, the upper bound for this probability approaches zero. This guarantees that, with a large enough sample, the sample average will be very close to the true average, which is the WLLN.\n",
        "\n",
        "\\\\\n",
        "\n",
        "**Can you describe what is IID samples? What is a sample mean?**\n",
        "\n",
        "IID samples are independent and identically distributed random variables, meaning each sample is drawn from the same distribution and doesn't depend on the others. The sample mean is the average of these observations and serves as an estimate of the population mean. As the number of IID samples increases, the sample mean converges toward the true population mean, which is the WLLN.\n",
        "\n",
        "\\\\\n",
        "\n",
        "**Can you describe the inequalities that we used to prove WLLN?**\n",
        "\n",
        "To prove the Weak Law of Large Numbers, we used the Chebyshev's inequality. Markov's inequality provides an upper bound on the probability that a non-negative random variable is above a certain threshold. Chebyshev's inequality is an upper bound on the probability that a random variable deviates from its mean by more than a certain amount, based on its variance. This inequality helps show that as the sample size increases, the probability of large deviations from the expected value decreases, proving the WLLN.\n",
        "\n",
        "\\\\\n",
        "\n",
        "**Can you explain why we say we can estimate probability using simulation because of WLLN? How is probability related to expected value?**\n",
        "\n",
        "We can estimate probabilities using simulation because of the Weak Law of Large Numbers, which states that as we collect more samples, the average of those samples converges to the expected value. Since probabilities can be viewed as expected values of indicator random variables, simulating experiments allows us to approximate these probabilities by taking averages of observed outcomes. As the number of simulations increases, our estimates become more accurate, reflecting the true probabilities of events in the underlying distribution.\n",
        "\n",
        "\\\\\n",
        "\n",
        "**Can you give an example of an indicator function?**\n",
        "\n",
        "An indicator function shows whether a specific event occurs. For example, consider flipping a coin:\n",
        "\n",
        "- Let the event be the coin lands on heads.\n",
        "- We can define the indicator function $I$ as the following:\n",
        "  - $I = 1$ if the coin lands on heads\n",
        "  - $I = 0$ if the coin lands on tails\n",
        "\n",
        "This function indicates the occurrence of the event by returning 1 for heads and 0 for tails. The average of this indicator over many flips gives the probability of landing heads, i.e. the true expected value/probability of the event occurring."
      ],
      "metadata": {
        "id": "2e6fH3vNsKz2"
      }
    },
    {
      "cell_type": "markdown",
      "source": [
        "We know that WLLN also applies when the random variable is continuous. Suppose we have a floor made of parallel strips of wood, each the same width, and we drop a needle onto the floor. We assume that the distance between the parallel strip is 2 and the needle's length 1. What is the probability that the needle will lie across a line between two strips? For this problem, we want to get the theoretical result and the simulating result of this problem.\n",
        "\n",
        "\n",
        "1. Let x be the distance form the center of the needle to the nearest line from 0 - 1.\n",
        "\n",
        "Theta be the acute angle between the parallel lines from 0 to pi/2\n",
        "\n",
        "the needle crosses a line if x is less than L/2 * SIN(THETA) which is when teh vertical projection of half the needle is greater than teh distance x\n",
        "\n",
        "\n",
        "The chance P is the double integral over that space\n",
        "\n",
        "P = 2/PI * The integral from 0 - PI/2 of the integral from 0 to L/2Sin(theta) dxdtheta\n",
        "\n",
        "So L = 1 and D = 2\n",
        "\n",
        "so P = 2 / Pi * The integral from 0 - Pi/2 * Sin(theta)dTheta\n",
        "\n",
        "SO P = 2 / PI * 1 = 0.6366\n",
        "\n",
        "\n",
        "\n",
        "\n",
        "For the theoretical result, let x be the distance from the center of the needle to the closest parallel line and let\n",
        " be the acute angle between the needle and one of the parallel lines. Try to use the integral of these two random variables to determine the probability that the needle will lie across a line between two strips.\n",
        "For the simulating result, try to do the experiment by code and figure out what is the probability that the needle will lie across a line between two strips if you do the experiment 100 times in which you drop 100, 1000, 100000 needles. And compare the variances of results among the 100 experiments using different number of needles, and compare with the theoretical probability.\n"
      ],
      "metadata": {
        "id": "QtqWUkPT3Vr-"
      }
    },
    {
      "cell_type": "code",
      "source": [
        "import numpy as np\n",
        "\n",
        "def simulation(num_needles):\n",
        "\n",
        "  L = 1\n",
        "  D = 2\n",
        "\n",
        "  theta = np.random.uniform(0, np.pi / 2, num_needles)\n",
        "  x = np.random.uniform(0, D / 2, num_needles)\n",
        "\n",
        "  crosses = x <= (L / 2) * np.sin(theta)\n",
        "\n",
        "  return np.mean(crosses)\n",
        "\n",
        "  number_trials = [100, 1000, 100000]\n",
        "\n",
        "  results = {n: (np.mean(res), np.var(res)) for n, res in results.itens()}\n",
        "\n",
        "  import pandas as pd\n",
        "\n",
        "  df = pd.DataFrame(summary_stats, index = [\"mean Prob, Variance\"])\n",
        "  print(df)"
      ],
      "metadata": {
        "id": "TguhcTfyY7Jg"
      },
      "execution_count": 9,
      "outputs": []
    },
    {
      "cell_type": "markdown",
      "source": [
        "##Design\n",
        "A game involves rolling two fair six-sided dice. You win if the sum of the two dice is greater than 8. The possible outcomes of rolling two dice range from 2 (both dice showing 1) to 12 (both dice showing 6).\n",
        "\n",
        "Part 1: Prediction\n",
        "\n",
        "Calculate the exact probability of winning (i.e., the probability that the sum of the two dice is greater than 8) by listing all possible outcomes.\n",
        "\n",
        "Part 2: Simulation\n",
        "\n",
        "Simulate the process of rolling two dice to estimate the probability of winning.\n",
        "1. Write a program that simulates rolling two six-sided dice.\n",
        "2. Simulate the rolling process 10,000 times and keep track of the number of times the sum of the dice is greater than 8.\n",
        "3. Use the results from the simulation to estimate the probability of winning.\n",
        "\n",
        "\n",
        "Compare your simulated probability with the exact probability you calculated in Part 1."
      ],
      "metadata": {
        "id": "DQJw5BxweMl1"
      }
    },
    {
      "cell_type": "markdown",
      "source": [],
      "metadata": {
        "id": "B0gNJ7AaY5VG"
      }
    }
  ]
}