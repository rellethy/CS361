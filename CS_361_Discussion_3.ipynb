{
  "nbformat": 4,
  "nbformat_minor": 0,
  "metadata": {
    "colab": {
      "provenance": [],
      "include_colab_link": true
    },
    "kernelspec": {
      "name": "python3",
      "display_name": "Python 3"
    },
    "language_info": {
      "name": "python"
    }
  },
  "cells": [
    {
      "cell_type": "markdown",
      "metadata": {
        "id": "view-in-github",
        "colab_type": "text"
      },
      "source": [
        "<a href=\"https://colab.research.google.com/github/rellethy/CS361/blob/main/CS_361_Discussion_3.ipynb\" target=\"_parent\"><img src=\"https://colab.research.google.com/assets/colab-badge.svg\" alt=\"Open In Colab\"/></a>"
      ]
    },
    {
      "cell_type": "markdown",
      "source": [
        "#Questions:\n",
        "**Can you explain the addition principle and multiplication principle in counting with example?**\n",
        "\n",
        "- The addition principle can be used when you are finding the probability where multiple outcomes count, this usually includes the word \"OR\". Ex. How many possibilities are there that you pull a 2 or 3 or 10 from a deck of cards. You can add the number of possibiliteis of each even occuring, 4 + 4 + 4 = 12.\n",
        "- The multiplication principle occurs when you are finding possibile combinations of mulitple events happening, usally includes the keyword \"AND\". Ex. Possible outcomes where you pull a 3 AND 2 AND ace, 4 * 4 * 4 = 64.\n",
        "\n",
        "**Can you describe several ways to represent sample space effectively?**\n",
        "\n",
        "- There are many ways to describe a sample space. To name a few, you can use a list of all the possible outcomes, a tree diagram, or a grid with a y and x axis.\n",
        "\n",
        "\n",
        "\n",
        "**Can you explain the meaning of an event is said to have happened?**\n",
        "\n",
        "- An event refers to a specific outcome or a set of outcomes of an experiment. So when an event has happened, the outcome is one of the the outcomes that makes up that event\n",
        "\n",
        "**Can you recall the three axioms of probability?**\n",
        "\n",
        "- The probability of an event is always non negative\n",
        "the probability of the sample space is 1, so one of the possible outcomes must occur\n",
        "\n",
        "- if two events are mutually exclusive, they cannot both happen at the same time. Then the probabliity of either event happening is the sum of their individual chances.\n",
        "\n",
        "**Can you give an example of two events are disjoint?**\n",
        "\n",
        "- if i drew a card from a deck, the chance of it being red or black cannot happen at the same time.\n",
        "\n",
        "\n",
        "**And an example of two events being independent?**\n",
        "\n",
        "- Flipping a coin and rolling a dice, if i flipped a coin, it does not change the outcome of me rolling the dice.\n",
        "\n",
        "**What's the difference between disjoint events and independent events?**\n",
        "\n",
        "- disjoint events cannot happen at the exackt same time, independant events can happen at the same time, but one event does not effect the chances of the other\n",
        "\n",
        "**Can you describe three ways that we can use to calculate probabilities using set theory?**\n",
        "\n",
        "1.** Intersection **\n",
        "\n",
        "- this would be the probabilty of a multiplied by the probabilty of b given a, so if A and B are dependant, the probability of b given a is a conditional event.\n",
        "\n",
        "2. **Complement**\n",
        "\n",
        "- the proabbilty of the complement is 1 - the probabilty of event A. Its essentailly subtracting 1 from the probabilty that the evnt does not happen.\n",
        "\n",
        "3. **Union**\n",
        "\n",
        "- Joining the probabilities of 2 events - the cross section. This accoutns for the possibility that there is an overlap between the two events."
      ],
      "metadata": {
        "id": "yHigpfd6nVC7"
      }
    },
    {
      "cell_type": "markdown",
      "source": [
        "#Problems\n",
        "\n",
        "1. Professor Hongye has a list of 55 different songs and she wants to  divide them into 5 groups to play on each of the week days, how many ways are there for the division? It's possible one day doesn't have any song. Songs will not be repeated. It won't allow the case of \"no songs for 2 days or even more days\".\n",
        "\n",
        "We can break this problem down into small steps:\n",
        "\n",
        "- Find the number of ways to divide up the 55 songs among the 5 days without any restrictions.\n",
        "\n",
        "- Calculate the number of ways where exactly 2 days are without any songs, 3 days are without any songs, and 4 days are without any songs.\n",
        "\n",
        "- Add the values from #2 up and then subtract them from the value from #1\n",
        "\n",
        "For finding the number of ways to divide up the 55 songs among the 5 days without any restrictions, we can use the stars and bars approach to derive this value. Basically, because there are 5 days we want to split the songs into, there are $5 - 1 = 4$ divisions/bars that can be rearranged in our dataset. These 4 divisions must be placed in between 55 songs, so therefore there are $55 + 4 = 59$ slots to choose from to place the 4 divisions. Therefore, the total number of ways to divide up 55 songs between 5 days is ${59 \\choose 4} = 204297$ ways.\n",
        "\n",
        "Next, we must calculate the number of ways where exactly 2 days are without any songs, 3 days are without any songs, and 4 days are without any songs. Let's start with calculating exactly 2 days: we know that having exactly 2 days without songs is the same as distributing all the songs among 3 days, which means we'd have 2 divisions for 57 slots. Therefore, there are ${57 \\choose 2} = 1596$ ways. Now we must calculate how many ways there are to have two days empty out of 5 total days, and multiply this with the number calculated above: ${5 \\choose 2} \\cdot 1596 = 15960$ total ways where exactly 2 days are without any songs.\n",
        "\n",
        "Next, we must calculate the number of ways where exactly 3 days are without any songs. We know that having exactly 3 days without songs is the same as distributing all the songs among 2 days, which means we'd have 1 divisions for 56 slots. Therefore, there are ${56 \\choose 1} = 56$ ways. Now we must calculate how many ways there are to have three days empty out of 5 total days, and multiply this with the number calculated above: ${5 \\choose 3} \\cdot 56 = 560$ total ways where exactly 3 days are without any songs.\n",
        "\n",
        "Next, we must calculate the number of ways where exactly 4 days are without any songs. We know that having exactly 4 days without songs is the same as distributing all the songs among 1 day, and there is only 1 way for doing this. Now we must calculate how many ways there are to have four days empty out of 5 total days, and multiply this with the number calculated above: ${5 \\choose 4} \\cdot 1 = 5$ total ways where exactly 4 days are without any songs.\n",
        "\n",
        "Now that we have calculated all the values from the small steps, we can subtract all of them from the total number of ways we calculated first: $204297 - (15960 + 560 + 5) = 187772$ ways"
      ],
      "metadata": {
        "id": "jl8ww584s4x-"
      }
    },
    {
      "cell_type": "markdown",
      "source": [
        "2. Three students of CS361 play a game of summing up the random numbers they get. The first student takes a random card from 10 cards that has a number from 1 to 10 respectively. The 2nd student rolls a wheel that have numbered & evenly distributed slots, the numbers are from 1 to 6. The 3rd student takes a number from a 4-sided fair die with numbers from 1-4 respectively. What is the probability that the sum's last digit is 3, or 6, or 1?\n",
        "\n",
        "For this problem, we can calculate the probability by calculating the cardinalities of the event space and the sample space, and then dividing those values. The cardinality of the sample space is a simple calculation: there are 10 choices for the first student, there are 6 choices for the second student, and there are 4 choices for the third student, so the total number of combinations is $10 * 6 * 4 = 240$.\n",
        "\n",
        "The cardinality of the event space is a trickier calculation, so let's take it step-by-step: for the sum of the resulting rolls to be a 3, 6, or 1, we can start by simplifying this into the different ways to get a certain sum from the last two rolls (since the first roll has all 10 initial values, we know that we must consider all the possible values for the last two rolls in order to correctly understand the event space).\n",
        "\n",
        "For the last two rolls, there are 0 ways to get a sum ending in 1, 1 way to get a sum ending in 2 (${(1, 1)}$), 2 ways to get a sum ending in 3 (${(1, 2), (2, 1)}$), 3 ways to get a sum ending in 4 (${(1, 3), (2, 2), (3, 1)}$), 4 ways to get a sum ending in 5 (${(1, 4), (2, 3), (3, 2), (4, 1)}$), 4 ways to get a sum ending in 6 (${(2, 4), (3, 3), (4, 2), (5, 1)}$), 4 ways to get a sum ending in 7 (${(3, 4), (4, 3), (5, 2), (6, 1)}$), 3 ways to get a sum ending in 8 (${(4, 4), (5, 3), (6, 2)}$), 2 ways to get a sum ending in 9 (${(5, 4), (6, 3)}$), and 1 way to get a sum ending in 0 (${(6, 4)}$).\n",
        "\n",
        "From here, we can determine the number of ways to get a sum ending in 3, 6, or 1 off of 3 rolls by adding up the number of ways needed for each possible first roll: if a 10 is rolled, then the sum of the next two rolls must end in 3, 6, or 1, so the number of possible ways this can happen is $2 + 4 + 0 = 6$ ways. If a 1 is rolled, then the sum of the next two rolls must end in 2, 5, or 0, so the number of possible ways this can happen is $1 + 4 + 1 = 6$ ways. If a 2 is rolled, then the sum of the next two rolls must end in 1, 4, or 9, so the number of possible ways this can happen is $0 + 3 + 2 = 5$ ways. If a 3 is rolled, then the sum of the next two rolls must end in 0, 3, or 8, so the number of possible ways this can happen is $1 + 2 + 3 = 6$ ways. If a 4 is rolled, then the sum of the next two rolls must end in 9, 2, or 7, so the number of possible ways this can happen is $2 + 1 + 4 = 7$ ways. If a 5 is rolled, then the sum of the next two rolls must end in 8, 1, or 6, so the number of possible ways this can happen is $3 + 0 + 4 = 7$ ways. If a 6 is rolled, then the sum of the next two rolls must end in 7, 0, or 5, so the number of possible ways this can happen is $4 + 1 + 4 = 9$ ways. If a 7 is rolled, then the sum of the next two rolls must end in 6, 9, or 4, so the number of possible ways this can happen is $4 + 2 + 3 = 9$ ways. If a 8 is rolled, then the sum of the next two rolls must end in 5, 8, or 3, so the number of possible ways this can happen is $4 + 3 + 2 = 9$ ways. If a 9 is rolled, then the sum of the next two rolls must end in 4, 7, or 2, so the number of possible ways this can happen is $3 + 4 + 1 = 8$ ways.\n",
        "\n",
        "The total number of ways to get a favorable outcome is $6 + 6 + 5 + 6 + 7 + 7 + 9 + 9 + 9 + 8 = 72$ ways\n",
        "\n",
        "The final probability is dividing the cardinality of the event space by the cardinality of the sample space: $\\frac{72}{240} = 0.3$"
      ],
      "metadata": {
        "id": "K72CnH160_I7"
      }
    },
    {
      "cell_type": "code",
      "execution_count": null,
      "metadata": {
        "id": "jU--7RdArabM"
      },
      "outputs": [],
      "source": []
    },
    {
      "cell_type": "markdown",
      "source": [
        "#Design:\n",
        "A student has a deck of standard deck of cards and draws two. Given that the first card is red, what is the probability that both cards are diamond face cards."
      ],
      "metadata": {
        "id": "5JJlA_EeOXoV"
      }
    }
  ]
}