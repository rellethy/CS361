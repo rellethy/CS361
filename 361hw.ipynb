{
  "nbformat": 4,
  "nbformat_minor": 0,
  "metadata": {
    "colab": {
      "provenance": []
    },
    "kernelspec": {
      "name": "python3",
      "display_name": "Python 3"
    },
    "language_info": {
      "name": "python"
    }
  },
  "cells": [
    {
      "cell_type": "markdown",
      "source": [
        "# 361 HW 1\n",
        "\n",
        "## Problem 1\n",
        "\n",
        "1. Are there outliers in this data?\n",
        "\n",
        "\n",
        "2. What is the mean cost of a power plant? What is the standard deviation?\n",
        "3.  What is the mean cost per megawatt? What is the standard deviation?\n",
        "4. Plot a histogram of the cost per megawatt. Is it skewed? Why?"
      ],
      "metadata": {
        "id": "DcibPsRTaM6E"
      }
    },
    {
      "cell_type": "code",
      "source": [
        "import pandas as pd\n",
        "import matplotlib.pyplot as plt\n",
        "import numpy as np\n",
        "\n",
        "df = pd.read_csv('nuclear-plants.csv')\n",
        "df.head()\n",
        "\n",
        "df_clean = df['Cost\\tMwatts\\tDate'].str.split('\\t', expand=True)\n",
        "\n",
        "df_clean.columns = ['Cost', 'Mwatts', 'Date']\n",
        "\n",
        "\n",
        "\n",
        "df_clean['Cost'] = pd.to_numeric(df_clean['Cost'], errors='coerce')\n",
        "df_clean['Mwatts'] = pd.to_numeric(df_clean['Mwatts'], errors='coerce')\n",
        "\n",
        "plt.boxplot([df_clean['Cost'], df_clean['Mwatts']])\n",
        "\n",
        "plt.show()\n",
        "df_clean.head()\n",
        "\n"
      ],
      "metadata": {
        "colab": {
          "base_uri": "https://localhost:8080/",
          "height": 619
        },
        "id": "OKbOqKgEbyjq",
        "outputId": "2f5c73db-f5a8-4fb8-eb55-0e1638fca05b"
      },
      "execution_count": null,
      "outputs": [
        {
          "output_type": "display_data",
          "data": {
            "text/plain": [
              "<Figure size 640x480 with 1 Axes>"
            ],
            "image/png": "[encoded data removed]"
          },
          "metadata": {}
        },
        {
          "output_type": "execute_result",
          "data": {
            "text/plain": [
              "     Cost  Mwatts   Date\n",
              "0  345.39     514  67.92\n",
              "1  460.05     687  68.58\n",
              "2  452.99    1065  67.33\n",
              "3  443.22    1065  67.33\n",
              "4  652.32    1065  68.00"
            ],
            "text/html": [
              "\n",
              "  <div id=\"df-e41548ca-13b8-4c15-8b9d-6ab9cbbf4d5b\" class=\"colab-df-container\">\n",
              "    <div>\n",
              "<style scoped>\n",
              "    .dataframe tbody tr th:only-of-type {\n",
              "        vertical-align: middle;\n",
              "    }\n",
              "\n",
              "    .dataframe tbody tr th {\n",
              "        vertical-align: top;\n",
              "    }\n",
              "\n",
              "    .dataframe thead th {\n",
              "        text-align: right;\n",
              "    }\n",
              "</style>\n",
              "<table border=\"1\" class=\"dataframe\">\n",
              "  <thead>\n",
              "    <tr style=\"text-align: right;\">\n",
              "      <th></th>\n",
              "      <th>Cost</th>\n",
              "      <th>Mwatts</th>\n",
              "      <th>Date</th>\n",
              "    </tr>\n",
              "  </thead>\n",
              "  <tbody>\n",
              "    <tr>\n",
              "      <th>0</th>\n",
              "      <td>345.39</td>\n",
              "      <td>514</td>\n",
              "      <td>67.92</td>\n",
              "    </tr>\n",
              "    <tr>\n",
              "      <th>1</th>\n",
              "      <td>460.05</td>\n",
              "      <td>687</td>\n",
              "      <td>68.58</td>\n",
              "    </tr>\n",
              "    <tr>\n",
              "      <th>2</th>\n",
              "      <td>452.99</td>\n",
              "      <td>1065</td>\n",
              "      <td>67.33</td>\n",
              "    </tr>\n",
              "    <tr>\n",
              "      <th>3</th>\n",
              "      <td>443.22</td>\n",
              "      <td>1065</td>\n",
              "      <td>67.33</td>\n",
              "    </tr>\n",
              "    <tr>\n",
              "      <th>4</th>\n",
              "      <td>652.32</td>\n",
              "      <td>1065</td>\n",
              "      <td>68.00</td>\n",
              "    </tr>\n",
              "  </tbody>\n",
              "</table>\n",
              "</div>\n",
              "    <div class=\"colab-df-buttons\">\n",
              "\n",
              "  <div class=\"colab-df-container\">\n",
              "    <button class=\"colab-df-convert\" onclick=\"convertToInteractive('df-e41548ca-13b8-4c15-8b9d-6ab9cbbf4d5b')\"\n",
              "            title=\"Convert this dataframe to an interactive table.\"\n",
              "            style=\"display:none;\">\n",
              "\n",
              "  <svg xmlns=\"http://www.w3.org/2000/svg\" height=\"24px\" viewBox=\"0 -960 960 960\">\n",
              "    <path d=\"M120-120v-720h720v720H120Zm60-500h600v-160H180v160Zm220 220h160v-160H400v160Zm0 220h160v-160H400v160ZM180-400h160v-160H180v160Zm440 0h160v-160H620v160ZM180-180h160v-160H180v160Zm440 0h160v-160H620v160Z\"/>\n",
              "  </svg>\n",
              "    </button>\n",
              "\n",
              "  <style>\n",
              "    .colab-df-container {\n",
              "      display:flex;\n",
              "      gap: 12px;\n",
              "    }\n",
              "\n",
              "    .colab-df-convert {\n",
              "      background-color: #E8F0FE;\n",
              "      border: none;\n",
              "      border-radius: 50%;\n",
              "      cursor: pointer;\n",
              "      display: none;\n",
              "      fill: #1967D2;\n",
              "      height: 32px;\n",
              "      padding: 0 0 0 0;\n",
              "      width: 32px;\n",
              "    }\n",
              "\n",
              "    .colab-df-convert:hover {\n",
              "      background-color: #E2EBFA;\n",
              "      box-shadow: 0px 1px 2px rgba(60, 64, 67, 0.3), 0px 1px 3px 1px rgba(60, 64, 67, 0.15);\n",
              "      fill: #174EA6;\n",
              "    }\n",
              "\n",
              "    .colab-df-buttons div {\n",
              "      margin-bottom: 4px;\n",
              "    }\n",
              "\n",
              "    [theme=dark] .colab-df-convert {\n",
              "      background-color: #3B4455;\n",
              "      fill: #D2E3FC;\n",
              "    }\n",
              "\n",
              "    [theme=dark] .colab-df-convert:hover {\n",
              "      background-color: #434B5C;\n",
              "      box-shadow: 0px 1px 3px 1px rgba(0, 0, 0, 0.15);\n",
              "      filter: drop-shadow(0px 1px 2px rgba(0, 0, 0, 0.3));\n",
              "      fill: #FFFFFF;\n",
              "    }\n",
              "  </style>\n",
              "\n",
              "    <script>\n",
              "      const buttonEl =\n",
              "        document.querySelector('#df-e41548ca-13b8-4c15-8b9d-6ab9cbbf4d5b button.colab-df-convert');\n",
              "      buttonEl.style.display =\n",
              "        google.colab.kernel.accessAllowed ? 'block' : 'none';\n",
              "\n",
              "      async function convertToInteractive(key) {\n",
              "        const element = document.querySelector('#df-e41548ca-13b8-4c15-8b9d-6ab9cbbf4d5b');\n",
              "        const dataTable =\n",
              "          await google.colab.kernel.invokeFunction('convertToInteractive',\n",
              "                                                    [key], {});\n",
              "        if (!dataTable) return;\n",
              "\n",
              "        const docLinkHtml = 'Like what you see? Visit the ' +\n",
              "          '<a target=\"_blank\" href=https://colab.research.google.com/notebooks/data_table.ipynb>data table notebook</a>'\n",
              "          + ' to learn more about interactive tables.';\n",
              "        element.innerHTML = '';\n",
              "        dataTable['output_type'] = 'display_data';\n",
              "        await google.colab.output.renderOutput(dataTable, element);\n",
              "        const docLink = document.createElement('div');\n",
              "        docLink.innerHTML = docLinkHtml;\n",
              "        element.appendChild(docLink);\n",
              "      }\n",
              "    </script>\n",
              "  </div>\n",
              "\n",
              "\n",
              "<div id=\"df-3583725f-f144-4f51-8099-6358c7b4a7fd\">\n",
              "  <button class=\"colab-df-quickchart\" onclick=\"quickchart('df-3583725f-f144-4f51-8099-6358c7b4a7fd')\"\n",
              "            title=\"Suggest charts\"\n",
              "            style=\"display:none;\">\n",
              "\n",
              "<svg xmlns=\"http://www.w3.org/2000/svg\" height=\"24px\"viewBox=\"0 0 24 24\"\n",
              "     width=\"24px\">\n",
              "    <g>\n",
              "        <path d=\"M19 3H5c-1.1 0-2 .9-2 2v14c0 1.1.9 2 2 2h14c1.1 0 2-.9 2-2V5c0-1.1-.9-2-2-2zM9 17H7v-7h2v7zm4 0h-2V7h2v10zm4 0h-2v-4h2v4z\"/>\n",
              "    </g>\n",
              "</svg>\n",
              "  </button>\n",
              "\n",
              "<style>\n",
              "  .colab-df-quickchart {\n",
              "      --bg-color: #E8F0FE;\n",
              "      --fill-color: #1967D2;\n",
              "      --hover-bg-color: #E2EBFA;\n",
              "      --hover-fill-color: #174EA6;\n",
              "      --disabled-fill-color: #AAA;\n",
              "      --disabled-bg-color: #DDD;\n",
              "  }\n",
              "\n",
              "  [theme=dark] .colab-df-quickchart {\n",
              "      --bg-color: #3B4455;\n",
              "      --fill-color: #D2E3FC;\n",
              "      --hover-bg-color: #434B5C;\n",
              "      --hover-fill-color: #FFFFFF;\n",
              "      --disabled-bg-color: #3B4455;\n",
              "      --disabled-fill-color: #666;\n",
              "  }\n",
              "\n",
              "  .colab-df-quickchart {\n",
              "    background-color: var(--bg-color);\n",
              "    border: none;\n",
              "    border-radius: 50%;\n",
              "    cursor: pointer;\n",
              "    display: none;\n",
              "    fill: var(--fill-color);\n",
              "    height: 32px;\n",
              "    padding: 0;\n",
              "    width: 32px;\n",
              "  }\n",
              "\n",
              "  .colab-df-quickchart:hover {\n",
              "    background-color: var(--hover-bg-color);\n",
              "    box-shadow: 0 1px 2px rgba(60, 64, 67, 0.3), 0 1px 3px 1px rgba(60, 64, 67, 0.15);\n",
              "    fill: var(--button-hover-fill-color);\n",
              "  }\n",
              "\n",
              "  .colab-df-quickchart-complete:disabled,\n",
              "  .colab-df-quickchart-complete:disabled:hover {\n",
              "    background-color: var(--disabled-bg-color);\n",
              "    fill: var(--disabled-fill-color);\n",
              "    box-shadow: none;\n",
              "  }\n",
              "\n",
              "  .colab-df-spinner {\n",
              "    border: 2px solid var(--fill-color);\n",
              "    border-color: transparent;\n",
              "    border-bottom-color: var(--fill-color);\n",
              "    animation:\n",
              "      spin 1s steps(1) infinite;\n",
              "  }\n",
              "\n",
              "  @keyframes spin {\n",
              "    0% {\n",
              "      border-color: transparent;\n",
              "      border-bottom-color: var(--fill-color);\n",
              "      border-left-color: var(--fill-color);\n",
              "    }\n",
              "    20% {\n",
              "      border-color: transparent;\n",
              "      border-left-color: var(--fill-color);\n",
              "      border-top-color: var(--fill-color);\n",
              "    }\n",
              "    30% {\n",
              "      border-color: transparent;\n",
              "      border-left-color: var(--fill-color);\n",
              "      border-top-color: var(--fill-color);\n",
              "      border-right-color: var(--fill-color);\n",
              "    }\n",
              "    40% {\n",
              "      border-color: transparent;\n",
              "      border-right-color: var(--fill-color);\n",
              "      border-top-color: var(--fill-color);\n",
              "    }\n",
              "    60% {\n",
              "      border-color: transparent;\n",
              "      border-right-color: var(--fill-color);\n",
              "    }\n",
              "    80% {\n",
              "      border-color: transparent;\n",
              "      border-right-color: var(--fill-color);\n",
              "      border-bottom-color: var(--fill-color);\n",
              "    }\n",
              "    90% {\n",
              "      border-color: transparent;\n",
              "      border-bottom-color: var(--fill-color);\n",
              "    }\n",
              "  }\n",
              "</style>\n",
              "\n",
              "  <script>\n",
              "    async function quickchart(key) {\n",
              "      const quickchartButtonEl =\n",
              "        document.querySelector('#' + key + ' button');\n",
              "      quickchartButtonEl.disabled = true;  // To prevent multiple clicks.\n",
              "      quickchartButtonEl.classList.add('colab-df-spinner');\n",
              "      try {\n",
              "        const charts = await google.colab.kernel.invokeFunction(\n",
              "            'suggestCharts', [key], {});\n",
              "      } catch (error) {\n",
              "        console.error('Error during call to suggestCharts:', error);\n",
              "      }\n",
              "      quickchartButtonEl.classList.remove('colab-df-spinner');\n",
              "      quickchartButtonEl.classList.add('colab-df-quickchart-complete');\n",
              "    }\n",
              "    (() => {\n",
              "      let quickchartButtonEl =\n",
              "        document.querySelector('#df-3583725f-f144-4f51-8099-6358c7b4a7fd button');\n",
              "      quickchartButtonEl.style.display =\n",
              "        google.colab.kernel.accessAllowed ? 'block' : 'none';\n",
              "    })();\n",
              "  </script>\n",
              "</div>\n",
              "\n",
              "    </div>\n",
              "  </div>\n"
            ],
            "application/vnd.google.colaboratory.intrinsic+json": {
              "type": "dataframe",
              "variable_name": "df_clean",
              "summary": "{\n  \"name\": \"df_clean\",\n  \"rows\": 32,\n  \"fields\": [\n    {\n      \"column\": \"Cost\",\n      \"properties\": {\n        \"dtype\": \"number\",\n        \"std\": 170.12066957318333,\n        \"min\": 207.51,\n        \"max\": 881.24,\n        \"num_unique_values\": 32,\n        \"samples\": [\n          280.36,\n          423.32,\n          473.64\n        ],\n        \"semantic_type\": \"\",\n        \"description\": \"\"\n      }\n    },\n    {\n      \"column\": \"Mwatts\",\n      \"properties\": {\n        \"dtype\": \"number\",\n        \"std\": 189,\n        \"min\": 457,\n        \"max\": 1130,\n        \"num_unique_values\": 22,\n        \"samples\": [\n          514,\n          1090,\n          530\n        ],\n        \"semantic_type\": \"\",\n        \"description\": \"\"\n      }\n    },\n    {\n      \"column\": \"Date\",\n      \"properties\": {\n        \"dtype\": \"string\",\n        \"num_unique_values\": 19,\n        \"samples\": [\n          \"67.92\",\n          \"68.42\",\n          \"70.92\"\n        ],\n        \"semantic_type\": \"\",\n        \"description\": \"\"\n      }\n    }\n  ]\n}"
            }
          },
          "metadata": {},
          "execution_count": 66
        }
      ]
    },
    {
      "cell_type": "code",
      "source": [
        "mean = np.mean(df_clean['Cost'])\n",
        "print(mean)\n",
        "\n",
        "std = np.std(df_clean['Cost'])\n",
        "print(std)\n",
        "\n",
        "\n",
        "df_clean['Per Megawatt'] = df_clean['Cost'] / df_clean['Mwatts']\n",
        "\n",
        "df_clean.head()\n",
        "\n",
        "mean_per_megawatt = np.mean(df_clean['Per Megawatt'])\n",
        "\n",
        "print(mean_per_megawatt)\n",
        "\n",
        "std_per_megawatt = np.std(df_clean['Per Megawatt'])\n",
        "\n",
        "print(std_per_megawatt)\n",
        "\n",
        "\n",
        "\n",
        "plt.hist(df_clean['Per Megawatt'], bins = 10, edgecolor = 'black')"
      ],
      "metadata": {
        "colab": {
          "base_uri": "https://localhost:8080/",
          "height": 591
        },
        "id": "iW5AvMkodVsT",
        "outputId": "16d1543a-5aed-45d0-b231-7532f9b0e0e9"
      },
      "execution_count": null,
      "outputs": [
        {
          "output_type": "stream",
          "name": "stdout",
          "text": [
            "461.5603125\n",
            "167.4414364689259\n",
            "0.569735439641486\n",
            "0.18417727831856512\n"
          ]
        },
        {
          "output_type": "execute_result",
          "data": {
            "text/plain": [
              "(array([6., 1., 2., 4., 3., 5., 3., 1., 4., 3.]),\n",
              " array([0.27853691, 0.3387204 , 0.39890388, 0.45908736, 0.51927085,\n",
              "        0.57945433, 0.63963781, 0.6998213 , 0.76000478, 0.82018826,\n",
              "        0.88037175]),\n",
              " <BarContainer object of 10 artists>)"
            ]
          },
          "metadata": {},
          "execution_count": 58
        },
        {
          "output_type": "display_data",
          "data": {
            "text/plain": [
              "<Figure size 640x480 with 1 Axes>"
            ],
            "image/png": "[encoded data removed]"
          },
          "metadata": {}
        }
      ]
    },
    {
      "cell_type": "code",
      "source": [
        "skewness = df_clean['Per Megawatt'].skew()\n",
        "print(skewness)"
      ],
      "metadata": {
        "colab": {
          "base_uri": "https://localhost:8080/"
        },
        "id": "tmzy5E4QfQQ7",
        "outputId": "e139b6cb-51e9-4b6a-a527-e2cb6bfb0714"
      },
      "execution_count": null,
      "outputs": [
        {
          "output_type": "stream",
          "name": "stdout",
          "text": [
            "0.018651823935648328\n"
          ]
        }
      ]
    },
    {
      "cell_type": "markdown",
      "source": [
        "We see that the value for skewness is very close to 0, which would indicate that the data is fairly close to symmetrical.\n",
        "\n",
        "This data is for a range of dates very close together, we would not expect large price changes over a short period of time"
      ],
      "metadata": {
        "id": "gfIWDrlMf0li"
      }
    },
    {
      "cell_type": "markdown",
      "source": [
        "## Problem 2\n",
        "\n",
        "\n",
        "\n"
      ],
      "metadata": {
        "id": "2T5e6h1egiqd"
      }
    },
    {
      "cell_type": "code",
      "source": [
        "df = pd.read_csv('hot-dogs-1.csv')\n",
        "df.head()\n",
        "\n",
        "df_dogs = df['Type\\tCalories\\tSodium'].str.split('\\t', expand=True)\n",
        "\n",
        "df_dogs.columns = ['Type', 'Calories', 'Sodium']\n",
        "\n",
        "\n",
        "\n",
        "df_dogs['Calories'] = pd.to_numeric(df_dogs['Calories'], errors='coerce')\n",
        "df_dogs['Sodium'] = pd.to_numeric(df_dogs['Sodium'], errors='coerce')\n",
        "\n",
        "df_dogs.head()\n",
        "\n",
        "beef = df_dogs[df_dogs['Type'] == 'Beef']\n",
        "poultry = df_dogs[df_dogs['Type'] == 'Poultry']\n",
        "meat = df_dogs[df_dogs['Type'] == 'Meat']\n",
        "\n",
        "plt.hist([beef['Calories'], poultry['Calories'], meat['Calories']], bins = 10, edgecolor = 'black')\n",
        "\n",
        "\n",
        "\n",
        "\n",
        "plt.xlabel('Calories')\n",
        "plt.ylabel('Count')\n",
        "plt.legend(['Beef', 'Poultry', 'Meat'])\n",
        "plt.show()\n",
        "\n"
      ],
      "metadata": {
        "colab": {
          "base_uri": "https://localhost:8080/",
          "height": 449
        },
        "id": "hEmO_8E4giKI",
        "outputId": "336a891a-e7e4-4a21-9fb3-68c9d7e96399"
      },
      "execution_count": null,
      "outputs": [
        {
          "output_type": "display_data",
          "data": {
            "text/plain": [
              "<Figure size 640x480 with 1 Axes>"
            ],
            "image/png": "[encoded data removed]"
          },
          "metadata": {}
        }
      ]
    },
    {
      "cell_type": "code",
      "source": [
        "plt.hist([beef['Sodium'], poultry['Sodium'], meat['Sodium']], bins = 10, edgecolor = 'black')\n",
        "\n",
        "plt.xlabel('Sodium')\n",
        "plt.ylabel('Count')\n",
        "plt.legend(['Beef', 'Poultry', 'Meat'])\n",
        "plt.show()"
      ],
      "metadata": {
        "colab": {
          "base_uri": "https://localhost:8080/",
          "height": 449
        },
        "id": "NNLdGfS3i4Yk",
        "outputId": "2e280c5f-c02a-42b7-f6e4-568134264d8a"
      },
      "execution_count": null,
      "outputs": [
        {
          "output_type": "display_data",
          "data": {
            "text/plain": [
              "<Figure size 640x480 with 1 Axes>"
            ],
            "image/png": "[encoded data removed]"
          },
          "metadata": {}
        }
      ]
    },
    {
      "cell_type": "markdown",
      "source": [
        "For Calorie levels, we see that poultry generally has less calories than beef and \"meat\" products.\n",
        "\n",
        "For Sodium Levels, they're about the same, but for beef, the maximum sodium level is much larger than both poultry and \"meat\"\n",
        "\n",
        "Adding to the mystery of the \"meat\" product, we see that the data is pretyt spreat between 300 and 600 grams of sodium, while there is one potential outliar all the way below 200."
      ],
      "metadata": {
        "id": "2Qe3e2fhjAtY"
      }
    },
    {
      "cell_type": "markdown",
      "source": [
        "## Problem 3"
      ],
      "metadata": {
        "id": "0_ElxXGNu22K"
      }
    },
    {
      "cell_type": "code",
      "source": [
        " df_read = pd.read_csv('Readability.csv')\n",
        "\n",
        " df_read.head()\n",
        "\n",
        "\n",
        "group1 = df_read[df_read['GROUP'] == 1]\n",
        "group2 = df_read[df_read['GROUP'] == 2]\n",
        "group3 = df_read[df_read['GROUP'] == 3]\n",
        "\n",
        "plt.boxplot([group1['3SYL'], group2['3SYL'], group3['3SYL']])\n",
        "\n",
        "\n",
        "plt.xlabel('')\n",
        "plt.ylabel('Number of 3 syllable or more words ')\n",
        "plt.xticks([1, 2, 3], ['Group 1', 'Group 2', 'Group 3'])\n",
        "plt.show()"
      ],
      "metadata": {
        "colab": {
          "base_uri": "https://localhost:8080/",
          "height": 430
        },
        "id": "_rqaPVNvjPhE",
        "outputId": "9f86b2ff-fa06-4de3-ecc4-1d38f504de7f"
      },
      "execution_count": null,
      "outputs": [
        {
          "output_type": "display_data",
          "data": {
            "text/plain": [
              "<Figure size 640x480 with 1 Axes>"
            ],
            "image/png": "[encoded data removed]"
          },
          "metadata": {}
        }
      ]
    },
    {
      "cell_type": "code",
      "source": [
        "plt.boxplot([group1['SEN'], group2['SEN'], group3['SEN']])\n",
        "\n",
        "\n",
        "\n",
        "plt.xlabel('')\n",
        "plt.ylabel('Number of sentances')\n",
        "plt.xticks([1, 2, 3], ['Group 1', 'Group 2', 'Group 3'])\n",
        "plt.show()\n"
      ],
      "metadata": {
        "colab": {
          "base_uri": "https://localhost:8080/",
          "height": 430
        },
        "id": "FDP3Ya6rkUf8",
        "outputId": "4a536630-7ee7-4b5c-d975-acbe04cde172"
      },
      "execution_count": null,
      "outputs": [
        {
          "output_type": "display_data",
          "data": {
            "text/plain": [
              "<Figure size 640x480 with 1 Axes>"
            ],
            "image/png": "[encoded data removed]"
          },
          "metadata": {}
        }
      ]
    },
    {
      "cell_type": "markdown",
      "source": [
        "For number of 3 or more syllable words, it looks like group one covers a wide range from above 0 to almost 25, while group 2 covers a smaller range.\n",
        "\n",
        "For number of sentancces, we see that group 2 hasa larger maximum than one or two by about 6 sentances.\n",
        "\n",
        "In both box plots, group 3 has multiple outliars and a very small interquartile range."
      ],
      "metadata": {
        "id": "dGUWQ88SlGTr"
      }
    }
  ]
}